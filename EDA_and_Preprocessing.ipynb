{
 "cells": [
  {
   "cell_type": "markdown",
   "id": "11652e51-b834-4a6e-99ea-479dbedee12c",
   "metadata": {},
   "source": [
    "## Objective:"
   ]
  },
  {
   "cell_type": "markdown",
   "id": "5f36e084-a456-41a5-82ee-975fcde9740c",
   "metadata": {},
   "source": [
    "The main objective of this project is to design and implement a robust data preprocessing system that addresses common challenges such as missing values, outliers, inconsistent formatting, and noise. By performing effective data preprocessing, the project aims to enhance the quality, reliability, and usefulness of the data for machine learning."
   ]
  },
  {
   "cell_type": "code",
   "execution_count": 392,
   "id": "8ed026d3-7bb3-4ec9-b908-5edec8fc263d",
   "metadata": {},
   "outputs": [],
   "source": [
    "import numpy as np\n",
    "import pandas as pd\n",
    "import matplotlib.pyplot as plt\n",
    "import seaborn as sns"
   ]
  },
  {
   "cell_type": "code",
   "execution_count": 394,
   "id": "a4cb7c43-e1c4-4f6b-834c-dd87b9c9dce2",
   "metadata": {},
   "outputs": [],
   "source": [
    "from sklearn.preprocessing import LabelEncoder, OneHotEncoder\n",
    "from sklearn.feature_selection import VarianceThreshold"
   ]
  },
  {
   "cell_type": "code",
   "execution_count": 396,
   "id": "f6668b67-69df-4ed4-8d0b-4613bf4638c6",
   "metadata": {},
   "outputs": [],
   "source": [
    "from sklearn.preprocessing import StandardScaler, MinMaxScaler"
   ]
  },
  {
   "cell_type": "code",
   "execution_count": 398,
   "id": "bc8e00c9-d316-4d57-8e04-988182258080",
   "metadata": {},
   "outputs": [],
   "source": [
    "import warnings\n",
    "warnings.filterwarnings('ignore') # to prevent warning msgs"
   ]
  },
  {
   "cell_type": "markdown",
   "id": "c2bed018-379b-4c66-96b5-387e5bbb61d4",
   "metadata": {},
   "source": [
    "## IMPORTING DATASET"
   ]
  },
  {
   "cell_type": "code",
   "execution_count": 400,
   "id": "52ffaabe-0827-4c3e-bda1-0bcc860c13a9",
   "metadata": {},
   "outputs": [],
   "source": [
    "dataset=pd.read_csv('Employee.csv')"
   ]
  },
  {
   "cell_type": "code",
   "execution_count": 402,
   "id": "62cbd43a-7aba-473d-9653-2dc9925f26b2",
   "metadata": {},
   "outputs": [
    {
     "name": "stdout",
     "output_type": "stream",
     "text": [
      "Original dataset:\n",
      "   Company   Age  Salary     Place Country  Gender\n",
      "0      TCS  20.0     NaN   Chennai   India       0\n",
      "1  Infosys  30.0     NaN    Mumbai   India       0\n",
      "2      TCS  35.0  2300.0  Calcutta   India       0\n",
      "3  Infosys  40.0  3000.0     Delhi   India       0\n",
      "4      TCS  23.0  4000.0    Mumbai   India       0\n"
     ]
    }
   ],
   "source": [
    "df=pd.DataFrame(dataset)\n",
    "print(\"Original dataset:\")\n",
    "print(df.head())"
   ]
  },
  {
   "cell_type": "code",
   "execution_count": 404,
   "id": "fc0c1099-1bb0-4751-ad4e-a79bbfa0d06d",
   "metadata": {},
   "outputs": [
    {
     "name": "stdout",
     "output_type": "stream",
     "text": [
      "<class 'pandas.core.frame.DataFrame'>\n",
      "RangeIndex: 148 entries, 0 to 147\n",
      "Data columns (total 6 columns):\n",
      " #   Column   Non-Null Count  Dtype  \n",
      "---  ------   --------------  -----  \n",
      " 0   Company  140 non-null    object \n",
      " 1   Age      130 non-null    float64\n",
      " 2   Salary   124 non-null    float64\n",
      " 3   Place    134 non-null    object \n",
      " 4   Country  148 non-null    object \n",
      " 5   Gender   148 non-null    int64  \n",
      "dtypes: float64(2), int64(1), object(3)\n",
      "memory usage: 7.1+ KB\n"
     ]
    }
   ],
   "source": [
    "df.info()"
   ]
  },
  {
   "cell_type": "code",
   "execution_count": 406,
   "id": "c809bb93-10a4-4185-908f-3c9acc500ab5",
   "metadata": {},
   "outputs": [
    {
     "data": {
      "text/html": [
       "<div>\n",
       "<style scoped>\n",
       "    .dataframe tbody tr th:only-of-type {\n",
       "        vertical-align: middle;\n",
       "    }\n",
       "\n",
       "    .dataframe tbody tr th {\n",
       "        vertical-align: top;\n",
       "    }\n",
       "\n",
       "    .dataframe thead th {\n",
       "        text-align: right;\n",
       "    }\n",
       "</style>\n",
       "<table border=\"1\" class=\"dataframe\">\n",
       "  <thead>\n",
       "    <tr style=\"text-align: right;\">\n",
       "      <th></th>\n",
       "      <th>Age</th>\n",
       "      <th>Salary</th>\n",
       "      <th>Gender</th>\n",
       "    </tr>\n",
       "  </thead>\n",
       "  <tbody>\n",
       "    <tr>\n",
       "      <th>count</th>\n",
       "      <td>130.000000</td>\n",
       "      <td>124.000000</td>\n",
       "      <td>148.000000</td>\n",
       "    </tr>\n",
       "    <tr>\n",
       "      <th>mean</th>\n",
       "      <td>30.484615</td>\n",
       "      <td>5312.467742</td>\n",
       "      <td>0.222973</td>\n",
       "    </tr>\n",
       "    <tr>\n",
       "      <th>std</th>\n",
       "      <td>11.096640</td>\n",
       "      <td>2573.764683</td>\n",
       "      <td>0.417654</td>\n",
       "    </tr>\n",
       "    <tr>\n",
       "      <th>min</th>\n",
       "      <td>0.000000</td>\n",
       "      <td>1089.000000</td>\n",
       "      <td>0.000000</td>\n",
       "    </tr>\n",
       "    <tr>\n",
       "      <th>25%</th>\n",
       "      <td>22.000000</td>\n",
       "      <td>3030.000000</td>\n",
       "      <td>0.000000</td>\n",
       "    </tr>\n",
       "    <tr>\n",
       "      <th>50%</th>\n",
       "      <td>32.500000</td>\n",
       "      <td>5000.000000</td>\n",
       "      <td>0.000000</td>\n",
       "    </tr>\n",
       "    <tr>\n",
       "      <th>75%</th>\n",
       "      <td>37.750000</td>\n",
       "      <td>8000.000000</td>\n",
       "      <td>0.000000</td>\n",
       "    </tr>\n",
       "    <tr>\n",
       "      <th>max</th>\n",
       "      <td>54.000000</td>\n",
       "      <td>9876.000000</td>\n",
       "      <td>1.000000</td>\n",
       "    </tr>\n",
       "  </tbody>\n",
       "</table>\n",
       "</div>"
      ],
      "text/plain": [
       "              Age       Salary      Gender\n",
       "count  130.000000   124.000000  148.000000\n",
       "mean    30.484615  5312.467742    0.222973\n",
       "std     11.096640  2573.764683    0.417654\n",
       "min      0.000000  1089.000000    0.000000\n",
       "25%     22.000000  3030.000000    0.000000\n",
       "50%     32.500000  5000.000000    0.000000\n",
       "75%     37.750000  8000.000000    0.000000\n",
       "max     54.000000  9876.000000    1.000000"
      ]
     },
     "execution_count": 406,
     "metadata": {},
     "output_type": "execute_result"
    }
   ],
   "source": [
    "df.describe()"
   ]
  },
  {
   "cell_type": "markdown",
   "id": "d2038800-3614-4b63-8719-c00dbb0ef18b",
   "metadata": {},
   "source": [
    "## Data Cleaning: (Score : 2)\n",
    "## Find the missing and inappropriate values, treat them appropriately.\n",
    "## Remove all duplicate rows.\n",
    "## Find the outliers.\n",
    "## Replace the value 0 in age as NaN\n",
    "## Treat the null values in all columns using any measures(removing/ replace the values with mean/median/mode)"
   ]
  },
  {
   "cell_type": "markdown",
   "id": "d13cfd4c-b911-4a64-9b57-6b2dbe9e014a",
   "metadata": {},
   "source": [
    "## Finding Missing Data and Duplicates"
   ]
  },
  {
   "cell_type": "code",
   "execution_count": 35,
   "id": "d4432e89-9613-4f2c-a6b9-8da619eac336",
   "metadata": {},
   "outputs": [
    {
     "data": {
      "text/html": [
       "<div>\n",
       "<style scoped>\n",
       "    .dataframe tbody tr th:only-of-type {\n",
       "        vertical-align: middle;\n",
       "    }\n",
       "\n",
       "    .dataframe tbody tr th {\n",
       "        vertical-align: top;\n",
       "    }\n",
       "\n",
       "    .dataframe thead th {\n",
       "        text-align: right;\n",
       "    }\n",
       "</style>\n",
       "<table border=\"1\" class=\"dataframe\">\n",
       "  <thead>\n",
       "    <tr style=\"text-align: right;\">\n",
       "      <th></th>\n",
       "      <th>Company</th>\n",
       "      <th>Age</th>\n",
       "      <th>Salary</th>\n",
       "      <th>Place</th>\n",
       "      <th>Country</th>\n",
       "      <th>Gender</th>\n",
       "    </tr>\n",
       "  </thead>\n",
       "  <tbody>\n",
       "    <tr>\n",
       "      <th>0</th>\n",
       "      <td>False</td>\n",
       "      <td>False</td>\n",
       "      <td>True</td>\n",
       "      <td>False</td>\n",
       "      <td>False</td>\n",
       "      <td>False</td>\n",
       "    </tr>\n",
       "    <tr>\n",
       "      <th>1</th>\n",
       "      <td>False</td>\n",
       "      <td>False</td>\n",
       "      <td>True</td>\n",
       "      <td>False</td>\n",
       "      <td>False</td>\n",
       "      <td>False</td>\n",
       "    </tr>\n",
       "    <tr>\n",
       "      <th>2</th>\n",
       "      <td>False</td>\n",
       "      <td>False</td>\n",
       "      <td>False</td>\n",
       "      <td>False</td>\n",
       "      <td>False</td>\n",
       "      <td>False</td>\n",
       "    </tr>\n",
       "    <tr>\n",
       "      <th>3</th>\n",
       "      <td>False</td>\n",
       "      <td>False</td>\n",
       "      <td>False</td>\n",
       "      <td>False</td>\n",
       "      <td>False</td>\n",
       "      <td>False</td>\n",
       "    </tr>\n",
       "    <tr>\n",
       "      <th>4</th>\n",
       "      <td>False</td>\n",
       "      <td>False</td>\n",
       "      <td>False</td>\n",
       "      <td>False</td>\n",
       "      <td>False</td>\n",
       "      <td>False</td>\n",
       "    </tr>\n",
       "    <tr>\n",
       "      <th>...</th>\n",
       "      <td>...</td>\n",
       "      <td>...</td>\n",
       "      <td>...</td>\n",
       "      <td>...</td>\n",
       "      <td>...</td>\n",
       "      <td>...</td>\n",
       "    </tr>\n",
       "    <tr>\n",
       "      <th>143</th>\n",
       "      <td>False</td>\n",
       "      <td>False</td>\n",
       "      <td>False</td>\n",
       "      <td>False</td>\n",
       "      <td>False</td>\n",
       "      <td>False</td>\n",
       "    </tr>\n",
       "    <tr>\n",
       "      <th>144</th>\n",
       "      <td>False</td>\n",
       "      <td>False</td>\n",
       "      <td>False</td>\n",
       "      <td>False</td>\n",
       "      <td>False</td>\n",
       "      <td>False</td>\n",
       "    </tr>\n",
       "    <tr>\n",
       "      <th>145</th>\n",
       "      <td>False</td>\n",
       "      <td>False</td>\n",
       "      <td>False</td>\n",
       "      <td>False</td>\n",
       "      <td>False</td>\n",
       "      <td>False</td>\n",
       "    </tr>\n",
       "    <tr>\n",
       "      <th>146</th>\n",
       "      <td>False</td>\n",
       "      <td>False</td>\n",
       "      <td>False</td>\n",
       "      <td>False</td>\n",
       "      <td>False</td>\n",
       "      <td>False</td>\n",
       "    </tr>\n",
       "    <tr>\n",
       "      <th>147</th>\n",
       "      <td>False</td>\n",
       "      <td>False</td>\n",
       "      <td>False</td>\n",
       "      <td>False</td>\n",
       "      <td>False</td>\n",
       "      <td>False</td>\n",
       "    </tr>\n",
       "  </tbody>\n",
       "</table>\n",
       "<p>148 rows × 6 columns</p>\n",
       "</div>"
      ],
      "text/plain": [
       "     Company    Age  Salary  Place  Country  Gender\n",
       "0      False  False    True  False    False   False\n",
       "1      False  False    True  False    False   False\n",
       "2      False  False   False  False    False   False\n",
       "3      False  False   False  False    False   False\n",
       "4      False  False   False  False    False   False\n",
       "..       ...    ...     ...    ...      ...     ...\n",
       "143    False  False   False  False    False   False\n",
       "144    False  False   False  False    False   False\n",
       "145    False  False   False  False    False   False\n",
       "146    False  False   False  False    False   False\n",
       "147    False  False   False  False    False   False\n",
       "\n",
       "[148 rows x 6 columns]"
      ]
     },
     "execution_count": 35,
     "metadata": {},
     "output_type": "execute_result"
    }
   ],
   "source": [
    "df.isnull()"
   ]
  },
  {
   "cell_type": "code",
   "execution_count": 37,
   "id": "5630b002-d97c-446e-8669-8de472427817",
   "metadata": {},
   "outputs": [
    {
     "data": {
      "text/plain": [
       "Company     8\n",
       "Age        18\n",
       "Salary     24\n",
       "Place      14\n",
       "Country     0\n",
       "Gender      0\n",
       "dtype: int64"
      ]
     },
     "execution_count": 37,
     "metadata": {},
     "output_type": "execute_result"
    }
   ],
   "source": [
    "df.isnull().sum()"
   ]
  },
  {
   "cell_type": "code",
   "execution_count": 416,
   "id": "14476127-86ab-4240-81bc-19ae707a3323",
   "metadata": {},
   "outputs": [
    {
     "data": {
      "text/plain": [
       "8"
      ]
     },
     "execution_count": 416,
     "metadata": {},
     "output_type": "execute_result"
    }
   ],
   "source": [
    "df['Company'].isnull().sum()"
   ]
  },
  {
   "cell_type": "code",
   "execution_count": 418,
   "id": "a881052a-cb29-4f94-9c52-830aa743baf6",
   "metadata": {},
   "outputs": [],
   "source": [
    "df['Company'].fillna('Unknown', inplace=True)"
   ]
  },
  {
   "cell_type": "code",
   "execution_count": 420,
   "id": "84d61ec2-cc08-480c-9a22-d0ea3070a37c",
   "metadata": {},
   "outputs": [
    {
     "data": {
      "text/plain": [
       "0"
      ]
     },
     "execution_count": 420,
     "metadata": {},
     "output_type": "execute_result"
    }
   ],
   "source": [
    "df['Company'].isnull().sum()"
   ]
  },
  {
   "cell_type": "markdown",
   "id": "e2a315ba-db22-41c0-afea-5de6139336bb",
   "metadata": {},
   "source": [
    "## Replace the value 0 in age as NaN"
   ]
  },
  {
   "cell_type": "code",
   "execution_count": 422,
   "id": "1da43600-3e70-48cd-b462-7e9662b53e2f",
   "metadata": {},
   "outputs": [
    {
     "name": "stdout",
     "output_type": "stream",
     "text": [
      "Number of zeros in 'Age' before replacement: 0\n",
      "Number of NaN values in 'Age' after replacement: 24\n"
     ]
    }
   ],
   "source": [
    "print(\"Number of zeros in 'Age' before replacement:\", (df['Age'] == 0).sum())\n",
    "df['Age'] = df['Age'].replace(0, np.NaN)\n",
    "print(\"Number of NaN values in 'Age' after replacement:\", df['Age'].isna().sum())   #counts the NaN values to confirm the change"
   ]
  },
  {
   "cell_type": "code",
   "execution_count": 424,
   "id": "3d96055f-5b58-4fbc-9a1f-f6da030faded",
   "metadata": {},
   "outputs": [
    {
     "data": {
      "text/plain": [
       "0      5000.0\n",
       "1      5000.0\n",
       "2      2300.0\n",
       "3      3000.0\n",
       "4      4000.0\n",
       "        ...  \n",
       "143    9024.0\n",
       "144    8787.0\n",
       "145    4034.0\n",
       "146    5034.0\n",
       "147    8202.0\n",
       "Name: Salary, Length: 148, dtype: float64"
      ]
     },
     "execution_count": 424,
     "metadata": {},
     "output_type": "execute_result"
    }
   ],
   "source": [
    "df['Salary'].fillna(df['Salary'].median(), inplace=True)\n",
    "df['Salary']"
   ]
  },
  {
   "cell_type": "code",
   "execution_count": 426,
   "id": "130aefaa-1c60-424f-a17c-0461177cdfff",
   "metadata": {},
   "outputs": [],
   "source": [
    "df['Place'].fillna('Unknown', inplace=True)"
   ]
  },
  {
   "cell_type": "code",
   "execution_count": 428,
   "id": "f7bbd573-8e9b-410f-92ff-29f616998af5",
   "metadata": {},
   "outputs": [
    {
     "data": {
      "text/plain": [
       "Company     0\n",
       "Age        24\n",
       "Salary      0\n",
       "Place       0\n",
       "Country     0\n",
       "Gender      0\n",
       "dtype: int64"
      ]
     },
     "execution_count": 428,
     "metadata": {},
     "output_type": "execute_result"
    }
   ],
   "source": [
    "df.isnull().sum()"
   ]
  },
  {
   "cell_type": "markdown",
   "id": "cfc76308-13f5-457a-950c-27f08612df1d",
   "metadata": {},
   "source": [
    "## Handle NaN Values"
   ]
  },
  {
   "cell_type": "code",
   "execution_count": 430,
   "id": "cc68f107-477d-49b7-8e5a-d97190bbb196",
   "metadata": {},
   "outputs": [
    {
     "data": {
      "text/plain": [
       "<Axes: xlabel='Age', ylabel='Density'>"
      ]
     },
     "execution_count": 430,
     "metadata": {},
     "output_type": "execute_result"
    },
    {
     "data": {
      "image/png": "[encoded data removed]",
      "text/plain": [
       "<Figure size 640x480 with 1 Axes>"
      ]
     },
     "metadata": {},
     "output_type": "display_data"
    }
   ],
   "source": [
    "sns.distplot(df['Age'])"
   ]
  },
  {
   "cell_type": "markdown",
   "id": "fc250f5a-b19b-41cb-bc83-ce33fedd7bce",
   "metadata": {},
   "source": [
    "## Note : Since the data is slightly skewed median will be better option"
   ]
  },
  {
   "cell_type": "code",
   "execution_count": 432,
   "id": "1b4e9333-53cf-455c-b4f2-033398217b93",
   "metadata": {},
   "outputs": [],
   "source": [
    "df['Age'].fillna(df['Age'].median(), inplace=True)"
   ]
  },
  {
   "cell_type": "code",
   "execution_count": 434,
   "id": "3105dd9f-d542-4e2f-a2eb-e518483cfe7a",
   "metadata": {},
   "outputs": [
    {
     "name": "stdout",
     "output_type": "stream",
     "text": [
      "Company    0\n",
      "Age        0\n",
      "Salary     0\n",
      "Place      0\n",
      "Country    0\n",
      "Gender     0\n",
      "dtype: int64\n"
     ]
    }
   ],
   "source": [
    "print(df.isnull().sum()) "
   ]
  },
  {
   "cell_type": "code",
   "execution_count": 302,
   "id": "d0392117-1ded-4700-a57c-4ee943047522",
   "metadata": {},
   "outputs": [
    {
     "data": {
      "text/plain": [
       "0      False\n",
       "1      False\n",
       "2      False\n",
       "3      False\n",
       "4      False\n",
       "       ...  \n",
       "142    False\n",
       "143    False\n",
       "145    False\n",
       "146    False\n",
       "147    False\n",
       "Length: 144, dtype: bool"
      ]
     },
     "execution_count": 302,
     "metadata": {},
     "output_type": "execute_result"
    }
   ],
   "source": [
    "df.duplicated()"
   ]
  },
  {
   "cell_type": "code",
   "execution_count": 308,
   "id": "a8ad48ff-18a1-443c-9e57-d2488ac4ec55",
   "metadata": {},
   "outputs": [
    {
     "data": {
      "text/plain": [
       "0"
      ]
     },
     "execution_count": 308,
     "metadata": {},
     "output_type": "execute_result"
    }
   ],
   "source": [
    "df.duplicated().sum()"
   ]
  },
  {
   "cell_type": "markdown",
   "id": "68f53322-4d87-4646-825d-0e0044aaa277",
   "metadata": {},
   "source": [
    "## Numerical columns and Categorical columns identified"
   ]
  },
  {
   "cell_type": "code",
   "execution_count": 447,
   "id": "642cb8bc-af23-4c01-8432-568b213a999b",
   "metadata": {},
   "outputs": [],
   "source": [
    "numerical_columns = df.select_dtypes(include=['number']).columns\n",
    "categorical_columns = df.select_dtypes(include=['object']).columns"
   ]
  },
  {
   "cell_type": "code",
   "execution_count": 449,
   "id": "6444b1fc-fd67-4039-8b52-10acafcab030",
   "metadata": {},
   "outputs": [
    {
     "name": "stdout",
     "output_type": "stream",
     "text": [
      "numerical_columns: Index(['Age', 'Salary', 'Gender'], dtype='object')\n"
     ]
    }
   ],
   "source": [
    "print('numerical_columns:',numerical_columns)"
   ]
  },
  {
   "cell_type": "code",
   "execution_count": 451,
   "id": "0cfb6f33-6f9c-403a-8c50-d11b6c7542d2",
   "metadata": {},
   "outputs": [
    {
     "name": "stdout",
     "output_type": "stream",
     "text": [
      "categorical_columns: Index(['Company', 'Place', 'Country'], dtype='object')\n"
     ]
    }
   ],
   "source": [
    "print('categorical_columns:',categorical_columns)"
   ]
  },
  {
   "cell_type": "code",
   "execution_count": 445,
   "id": "f76946c8-2787-4984-8b48-04b0da24366d",
   "metadata": {},
   "outputs": [
    {
     "data": {
      "text/html": [
       "<div>\n",
       "<style scoped>\n",
       "    .dataframe tbody tr th:only-of-type {\n",
       "        vertical-align: middle;\n",
       "    }\n",
       "\n",
       "    .dataframe tbody tr th {\n",
       "        vertical-align: top;\n",
       "    }\n",
       "\n",
       "    .dataframe thead th {\n",
       "        text-align: right;\n",
       "    }\n",
       "</style>\n",
       "<table border=\"1\" class=\"dataframe\">\n",
       "  <thead>\n",
       "    <tr style=\"text-align: right;\">\n",
       "      <th></th>\n",
       "      <th>Company</th>\n",
       "      <th>Age</th>\n",
       "      <th>Salary</th>\n",
       "      <th>Place</th>\n",
       "      <th>Country</th>\n",
       "      <th>Gender</th>\n",
       "    </tr>\n",
       "  </thead>\n",
       "  <tbody>\n",
       "    <tr>\n",
       "      <th>0</th>\n",
       "      <td>TCS</td>\n",
       "      <td>20.0</td>\n",
       "      <td>5000.0</td>\n",
       "      <td>Chennai</td>\n",
       "      <td>India</td>\n",
       "      <td>0</td>\n",
       "    </tr>\n",
       "    <tr>\n",
       "      <th>1</th>\n",
       "      <td>Infosys</td>\n",
       "      <td>30.0</td>\n",
       "      <td>5000.0</td>\n",
       "      <td>Mumbai</td>\n",
       "      <td>India</td>\n",
       "      <td>0</td>\n",
       "    </tr>\n",
       "    <tr>\n",
       "      <th>2</th>\n",
       "      <td>TCS</td>\n",
       "      <td>35.0</td>\n",
       "      <td>2300.0</td>\n",
       "      <td>Calcutta</td>\n",
       "      <td>India</td>\n",
       "      <td>0</td>\n",
       "    </tr>\n",
       "    <tr>\n",
       "      <th>3</th>\n",
       "      <td>Infosys</td>\n",
       "      <td>40.0</td>\n",
       "      <td>3000.0</td>\n",
       "      <td>Delhi</td>\n",
       "      <td>India</td>\n",
       "      <td>0</td>\n",
       "    </tr>\n",
       "    <tr>\n",
       "      <th>4</th>\n",
       "      <td>TCS</td>\n",
       "      <td>23.0</td>\n",
       "      <td>4000.0</td>\n",
       "      <td>Mumbai</td>\n",
       "      <td>India</td>\n",
       "      <td>0</td>\n",
       "    </tr>\n",
       "    <tr>\n",
       "      <th>...</th>\n",
       "      <td>...</td>\n",
       "      <td>...</td>\n",
       "      <td>...</td>\n",
       "      <td>...</td>\n",
       "      <td>...</td>\n",
       "      <td>...</td>\n",
       "    </tr>\n",
       "    <tr>\n",
       "      <th>143</th>\n",
       "      <td>TCS</td>\n",
       "      <td>33.0</td>\n",
       "      <td>9024.0</td>\n",
       "      <td>Calcutta</td>\n",
       "      <td>India</td>\n",
       "      <td>1</td>\n",
       "    </tr>\n",
       "    <tr>\n",
       "      <th>144</th>\n",
       "      <td>Infosys</td>\n",
       "      <td>22.0</td>\n",
       "      <td>8787.0</td>\n",
       "      <td>Calcutta</td>\n",
       "      <td>India</td>\n",
       "      <td>1</td>\n",
       "    </tr>\n",
       "    <tr>\n",
       "      <th>145</th>\n",
       "      <td>Infosys</td>\n",
       "      <td>44.0</td>\n",
       "      <td>4034.0</td>\n",
       "      <td>Delhi</td>\n",
       "      <td>India</td>\n",
       "      <td>1</td>\n",
       "    </tr>\n",
       "    <tr>\n",
       "      <th>146</th>\n",
       "      <td>TCS</td>\n",
       "      <td>33.0</td>\n",
       "      <td>5034.0</td>\n",
       "      <td>Mumbai</td>\n",
       "      <td>India</td>\n",
       "      <td>1</td>\n",
       "    </tr>\n",
       "    <tr>\n",
       "      <th>147</th>\n",
       "      <td>Infosys</td>\n",
       "      <td>22.0</td>\n",
       "      <td>8202.0</td>\n",
       "      <td>Cochin</td>\n",
       "      <td>India</td>\n",
       "      <td>0</td>\n",
       "    </tr>\n",
       "  </tbody>\n",
       "</table>\n",
       "<p>148 rows × 6 columns</p>\n",
       "</div>"
      ],
      "text/plain": [
       "     Company   Age  Salary     Place Country  Gender\n",
       "0        TCS  20.0  5000.0   Chennai   India       0\n",
       "1    Infosys  30.0  5000.0    Mumbai   India       0\n",
       "2        TCS  35.0  2300.0  Calcutta   India       0\n",
       "3    Infosys  40.0  3000.0     Delhi   India       0\n",
       "4        TCS  23.0  4000.0    Mumbai   India       0\n",
       "..       ...   ...     ...       ...     ...     ...\n",
       "143      TCS  33.0  9024.0  Calcutta   India       1\n",
       "144  Infosys  22.0  8787.0  Calcutta   India       1\n",
       "145  Infosys  44.0  4034.0     Delhi   India       1\n",
       "146      TCS  33.0  5034.0    Mumbai   India       1\n",
       "147  Infosys  22.0  8202.0    Cochin   India       0\n",
       "\n",
       "[148 rows x 6 columns]"
      ]
     },
     "execution_count": 445,
     "metadata": {},
     "output_type": "execute_result"
    }
   ],
   "source": [
    "df"
   ]
  },
  {
   "cell_type": "markdown",
   "id": "a66acba3-bbe0-4c4d-b595-c2edb9aa2301",
   "metadata": {},
   "source": [
    "## Data Exploration: (Score : 1)\n",
    "## Explore the data, list down the unique values in each feature and find its length."
   ]
  },
  {
   "cell_type": "code",
   "execution_count": 316,
   "id": "79c9c68a-0cc2-47c9-baba-4b92b779e8c3",
   "metadata": {},
   "outputs": [
    {
     "name": "stdout",
     "output_type": "stream",
     "text": [
      "Unique values in Company_Name: [4 2 0 6 5 1 3]\n",
      "Number of unique values in Company_Name: 7\n",
      "\n",
      "Unique values in Age: [20.         30.         35.         40.         23.         30.48461538\n",
      " 34.         45.         18.         22.         32.         37.\n",
      " 50.         21.         46.         36.         26.         41.\n",
      " 24.         25.         43.         19.         38.         51.\n",
      " 31.         44.         33.         17.         54.        ]\n",
      "Number of unique values in Age: 29\n",
      "\n",
      "Unique values in Salary: [5000. 2300. 3000. 4000. 6000. 7000. 8000. 9000. 1089. 1234. 3030. 3045.\n",
      " 3184. 4824. 5835. 7084. 8943. 8345. 9284. 9876. 2034. 7654. 2934. 4034.\n",
      " 5034. 8202. 9024. 4345. 6544. 6543. 3234. 4324. 5435. 5555. 8787. 3454.\n",
      " 5654. 5009. 5098. 3033.]\n",
      "Number of unique values in Salary: 40\n",
      "\n",
      "Unique values in Place: ['Chennai' 'Mumbai' 'Calcutta' 'Delhi' 'Podicherry' 'Cochin' 'Unknown'\n",
      " 'Noida' 'Hyderabad' 'Bhopal' 'Nagpur' 'Pune']\n",
      "Number of unique values in Place: 12\n",
      "\n",
      "Unique values in Country: [0]\n",
      "Number of unique values in Country: 1\n",
      "\n",
      "Unique values in Gender: [0, 1]\n",
      "Categories (2, int64): [0, 1]\n",
      "Number of unique values in Gender: 2\n",
      "\n"
     ]
    }
   ],
   "source": [
    "for column in df.columns:\n",
    "    unique_values = df[column].unique()\n",
    "    print(f\"Unique values in {column}: {unique_values}\")\n",
    "    print(f\"Number of unique values in {column}: {len(unique_values)}\\n\")"
   ]
  },
  {
   "cell_type": "markdown",
   "id": "c1dca807-6bbd-4def-adee-d9d4ec9af471",
   "metadata": {},
   "source": [
    "## Perform the statistical analysis and renaming of the columns."
   ]
  },
  {
   "cell_type": "code",
   "execution_count": 318,
   "id": "f5b2a383-a0c7-4b01-a667-84884f36e0e6",
   "metadata": {},
   "outputs": [
    {
     "name": "stdout",
     "output_type": "stream",
     "text": [
      "       Company_Name         Age       Salary  Country\n",
      "count    144.000000  144.000000   144.000000    144.0\n",
      "mean       2.500000   31.855823  5238.194444      0.0\n",
      "std        1.797434    8.250046  2370.641804      0.0\n",
      "min        0.000000   17.000000  1089.000000      0.0\n",
      "25%        1.000000   23.750000  3045.000000      0.0\n",
      "50%        2.000000   32.000000  5000.000000      0.0\n",
      "75%        4.000000   36.000000  7084.000000      0.0\n",
      "max        6.000000   54.000000  9876.000000      0.0\n"
     ]
    }
   ],
   "source": [
    "print(df.describe()) # describe() - to get a summary of the statistics for numerical features"
   ]
  },
  {
   "cell_type": "code",
   "execution_count": 320,
   "id": "54330043-b601-4a50-a92f-15061891434f",
   "metadata": {},
   "outputs": [
    {
     "name": "stdout",
     "output_type": "stream",
     "text": [
      "         Place\n",
      "count      144\n",
      "unique      12\n",
      "top     Mumbai\n",
      "freq        34\n"
     ]
    }
   ],
   "source": [
    "print(df.describe(include = 'object')) # For categorical features, use describe(include='object')"
   ]
  },
  {
   "cell_type": "markdown",
   "id": "aecbd7a1-89a7-45d3-9e30-64cd1b349298",
   "metadata": {},
   "source": [
    "## Renaming Columns"
   ]
  },
  {
   "cell_type": "code",
   "execution_count": 463,
   "id": "a8c11257-012e-40a2-8b20-1edb2b34a770",
   "metadata": {},
   "outputs": [],
   "source": [
    "df.rename(columns={\n",
    "    'Company': 'Company_Name'\n",
    "}, inplace=True)\n"
   ]
  },
  {
   "cell_type": "code",
   "execution_count": 465,
   "id": "36a37f62-df7b-47a5-980d-d8a3ecd60c47",
   "metadata": {},
   "outputs": [
    {
     "data": {
      "text/plain": [
       "0          TCS\n",
       "1      Infosys\n",
       "2          TCS\n",
       "3      Infosys\n",
       "4          TCS\n",
       "        ...   \n",
       "143        TCS\n",
       "144    Infosys\n",
       "145    Infosys\n",
       "146        TCS\n",
       "147    Infosys\n",
       "Name: Company_Name, Length: 148, dtype: object"
      ]
     },
     "execution_count": 465,
     "metadata": {},
     "output_type": "execute_result"
    }
   ],
   "source": [
    "df['Company_Name']"
   ]
  },
  {
   "cell_type": "markdown",
   "id": "d1ad47c7-3939-44e9-b655-a612419967f7",
   "metadata": {},
   "source": [
    "## Convert Gender column to a categorical data type"
   ]
  },
  {
   "cell_type": "code",
   "execution_count": 326,
   "id": "432ff704-226c-463b-9b17-134a44db0226",
   "metadata": {},
   "outputs": [],
   "source": [
    "df['Gender'] = df['Gender'].astype('category')"
   ]
  },
  {
   "cell_type": "code",
   "execution_count": 328,
   "id": "d02c49d6-6430-45f0-bb71-2e1931349e8a",
   "metadata": {},
   "outputs": [
    {
     "name": "stdout",
     "output_type": "stream",
     "text": [
      "category\n"
     ]
    }
   ],
   "source": [
    "print(df['Gender'].dtype)"
   ]
  },
  {
   "cell_type": "markdown",
   "id": "cdace0f7-b022-4b20-9ea0-b45c222e946d",
   "metadata": {},
   "source": [
    "## Finding and Treating Outliers"
   ]
  },
  {
   "cell_type": "code",
   "execution_count": 549,
   "id": "91e6786d-a08a-4e32-abb5-4f38c4577a41",
   "metadata": {},
   "outputs": [
    {
     "data": {
      "image/png": "[encoded data removed]",
      "text/plain": [
       "<Figure size 1200x600 with 1 Axes>"
      ]
     },
     "metadata": {},
     "output_type": "display_data"
    }
   ],
   "source": [
    "# Box plot before removing outliers\n",
    "df.select_dtypes(include='number').boxplot(figsize=(12, 6), patch_artist=True)\n",
    "plt.title(\"Box Plot Before Removing Outliers\")\n",
    "plt.show()"
   ]
  },
  {
   "cell_type": "markdown",
   "id": "ecf361e0-bb87-45ba-8e07-51f6d36ad697",
   "metadata": {},
   "source": [
    "## Identify Outliers - IQR METHOD"
   ]
  },
  {
   "cell_type": "code",
   "execution_count": 551,
   "id": "ae5842f8-a169-44ee-9bf2-df01a5be6c8e",
   "metadata": {},
   "outputs": [
    {
     "name": "stdout",
     "output_type": "stream",
     "text": [
      "Number of outliers in Company_Name: 0\n",
      "Number of outliers in Age: 0\n",
      "Number of outliers in Salary: 0\n",
      "Number of outliers in Country: 0\n",
      "Number of outliers in Gender: 33\n"
     ]
    }
   ],
   "source": [
    "\n",
    "for column in df.select_dtypes(include='number').columns:\n",
    "    Q1 = df[column].quantile(0.25)\n",
    "    Q3 = df[column].quantile(0.75)\n",
    "    IQR = Q3 - Q1\n",
    "    lower_bound = Q1 - 1.5 * IQR\n",
    "    upper_bound = Q3 + 1.5 * IQR\n",
    "    \n",
    "    outliers = df[(df[column] < lower_bound) | (df[column] > upper_bound)]\n",
    "    print(f\"Number of outliers in {column}: {outliers.shape[0]}\")\n"
   ]
  },
  {
   "cell_type": "markdown",
   "id": "96a4c88c-1d4d-42d0-81aa-fe6facb5a0f8",
   "metadata": {},
   "source": [
    "## Removed _ Capping"
   ]
  },
  {
   "cell_type": "code",
   "execution_count": 555,
   "id": "10490124-1b05-4018-982f-158d39b6e9fb",
   "metadata": {},
   "outputs": [],
   "source": [
    "# Capping outliers to the lower and upper bounds\n",
    "df[column] = df[column].clip(lower=lower_bound, upper=upper_bound)"
   ]
  },
  {
   "cell_type": "code",
   "execution_count": 557,
   "id": "20d410d3-efe3-42e3-a041-fd6fe70094a3",
   "metadata": {},
   "outputs": [
    {
     "data": {
      "image/png": "[encoded data removed]",
      "text/plain": [
       "<Figure size 1200x600 with 1 Axes>"
      ]
     },
     "metadata": {},
     "output_type": "display_data"
    }
   ],
   "source": [
    "# Box plot after capping outliers\n",
    "df.select_dtypes(include='number').boxplot(figsize=(12, 6), patch_artist=True)\n",
    "plt.title(\"Box Plot After Capping Outliers\")\n",
    "plt.show()"
   ]
  },
  {
   "cell_type": "markdown",
   "id": "2f3243e0-3f77-4ab3-a890-6411bcbc5758",
   "metadata": {},
   "source": [
    "## Data Analysis: (Score : 2)\n",
    "## Filter the data with age >40 and salary<5000"
   ]
  },
  {
   "cell_type": "code",
   "execution_count": 336,
   "id": "4c702bab-f7d7-41c3-9b3a-4b91d3a112ba",
   "metadata": {},
   "outputs": [
    {
     "data": {
      "text/html": [
       "<div>\n",
       "<style scoped>\n",
       "    .dataframe tbody tr th:only-of-type {\n",
       "        vertical-align: middle;\n",
       "    }\n",
       "\n",
       "    .dataframe tbody tr th {\n",
       "        vertical-align: top;\n",
       "    }\n",
       "\n",
       "    .dataframe thead th {\n",
       "        text-align: right;\n",
       "    }\n",
       "</style>\n",
       "<table border=\"1\" class=\"dataframe\">\n",
       "  <thead>\n",
       "    <tr style=\"text-align: right;\">\n",
       "      <th></th>\n",
       "      <th>Company_Name</th>\n",
       "      <th>Age</th>\n",
       "      <th>Salary</th>\n",
       "      <th>Place</th>\n",
       "      <th>Country</th>\n",
       "      <th>Gender</th>\n",
       "    </tr>\n",
       "  </thead>\n",
       "  <tbody>\n",
       "    <tr>\n",
       "      <th>21</th>\n",
       "      <td>2</td>\n",
       "      <td>50.0</td>\n",
       "      <td>3184.0</td>\n",
       "      <td>Delhi</td>\n",
       "      <td>0</td>\n",
       "      <td>0</td>\n",
       "    </tr>\n",
       "    <tr>\n",
       "      <th>32</th>\n",
       "      <td>2</td>\n",
       "      <td>45.0</td>\n",
       "      <td>4034.0</td>\n",
       "      <td>Calcutta</td>\n",
       "      <td>0</td>\n",
       "      <td>0</td>\n",
       "    </tr>\n",
       "    <tr>\n",
       "      <th>39</th>\n",
       "      <td>2</td>\n",
       "      <td>41.0</td>\n",
       "      <td>3000.0</td>\n",
       "      <td>Mumbai</td>\n",
       "      <td>0</td>\n",
       "      <td>0</td>\n",
       "    </tr>\n",
       "    <tr>\n",
       "      <th>50</th>\n",
       "      <td>2</td>\n",
       "      <td>41.0</td>\n",
       "      <td>3000.0</td>\n",
       "      <td>Chennai</td>\n",
       "      <td>0</td>\n",
       "      <td>0</td>\n",
       "    </tr>\n",
       "    <tr>\n",
       "      <th>57</th>\n",
       "      <td>2</td>\n",
       "      <td>51.0</td>\n",
       "      <td>3184.0</td>\n",
       "      <td>Hyderabad</td>\n",
       "      <td>0</td>\n",
       "      <td>0</td>\n",
       "    </tr>\n",
       "    <tr>\n",
       "      <th>68</th>\n",
       "      <td>2</td>\n",
       "      <td>43.0</td>\n",
       "      <td>4034.0</td>\n",
       "      <td>Mumbai</td>\n",
       "      <td>0</td>\n",
       "      <td>0</td>\n",
       "    </tr>\n",
       "    <tr>\n",
       "      <th>75</th>\n",
       "      <td>2</td>\n",
       "      <td>44.0</td>\n",
       "      <td>3000.0</td>\n",
       "      <td>Cochin</td>\n",
       "      <td>0</td>\n",
       "      <td>0</td>\n",
       "    </tr>\n",
       "    <tr>\n",
       "      <th>86</th>\n",
       "      <td>2</td>\n",
       "      <td>41.0</td>\n",
       "      <td>3000.0</td>\n",
       "      <td>Delhi</td>\n",
       "      <td>0</td>\n",
       "      <td>0</td>\n",
       "    </tr>\n",
       "    <tr>\n",
       "      <th>93</th>\n",
       "      <td>2</td>\n",
       "      <td>54.0</td>\n",
       "      <td>3184.0</td>\n",
       "      <td>Mumbai</td>\n",
       "      <td>0</td>\n",
       "      <td>0</td>\n",
       "    </tr>\n",
       "    <tr>\n",
       "      <th>104</th>\n",
       "      <td>2</td>\n",
       "      <td>44.0</td>\n",
       "      <td>4034.0</td>\n",
       "      <td>Delhi</td>\n",
       "      <td>0</td>\n",
       "      <td>0</td>\n",
       "    </tr>\n",
       "    <tr>\n",
       "      <th>122</th>\n",
       "      <td>2</td>\n",
       "      <td>44.0</td>\n",
       "      <td>3234.0</td>\n",
       "      <td>Mumbai</td>\n",
       "      <td>0</td>\n",
       "      <td>0</td>\n",
       "    </tr>\n",
       "    <tr>\n",
       "      <th>129</th>\n",
       "      <td>2</td>\n",
       "      <td>50.0</td>\n",
       "      <td>3184.0</td>\n",
       "      <td>Calcutta</td>\n",
       "      <td>0</td>\n",
       "      <td>0</td>\n",
       "    </tr>\n",
       "    <tr>\n",
       "      <th>138</th>\n",
       "      <td>0</td>\n",
       "      <td>44.0</td>\n",
       "      <td>3033.0</td>\n",
       "      <td>Cochin</td>\n",
       "      <td>0</td>\n",
       "      <td>0</td>\n",
       "    </tr>\n",
       "    <tr>\n",
       "      <th>140</th>\n",
       "      <td>2</td>\n",
       "      <td>44.0</td>\n",
       "      <td>4034.0</td>\n",
       "      <td>Hyderabad</td>\n",
       "      <td>0</td>\n",
       "      <td>0</td>\n",
       "    </tr>\n",
       "    <tr>\n",
       "      <th>145</th>\n",
       "      <td>2</td>\n",
       "      <td>44.0</td>\n",
       "      <td>4034.0</td>\n",
       "      <td>Delhi</td>\n",
       "      <td>0</td>\n",
       "      <td>1</td>\n",
       "    </tr>\n",
       "  </tbody>\n",
       "</table>\n",
       "</div>"
      ],
      "text/plain": [
       "     Company_Name   Age  Salary      Place  Country Gender\n",
       "21              2  50.0  3184.0      Delhi        0      0\n",
       "32              2  45.0  4034.0   Calcutta        0      0\n",
       "39              2  41.0  3000.0     Mumbai        0      0\n",
       "50              2  41.0  3000.0    Chennai        0      0\n",
       "57              2  51.0  3184.0  Hyderabad        0      0\n",
       "68              2  43.0  4034.0     Mumbai        0      0\n",
       "75              2  44.0  3000.0     Cochin        0      0\n",
       "86              2  41.0  3000.0      Delhi        0      0\n",
       "93              2  54.0  3184.0     Mumbai        0      0\n",
       "104             2  44.0  4034.0      Delhi        0      0\n",
       "122             2  44.0  3234.0     Mumbai        0      0\n",
       "129             2  50.0  3184.0   Calcutta        0      0\n",
       "138             0  44.0  3033.0     Cochin        0      0\n",
       "140             2  44.0  4034.0  Hyderabad        0      0\n",
       "145             2  44.0  4034.0      Delhi        0      1"
      ]
     },
     "execution_count": 336,
     "metadata": {},
     "output_type": "execute_result"
    }
   ],
   "source": [
    "filtered_data = df[(df['Age'] > 40) & (df['Salary'] < 5000)]\n",
    "filtered_data"
   ]
  },
  {
   "cell_type": "markdown",
   "id": "ca5808d0-fd97-402f-ab44-01a02797439e",
   "metadata": {},
   "source": [
    "## Plot the chart with age and salary"
   ]
  },
  {
   "cell_type": "code",
   "execution_count": 180,
   "id": "1a2a87af-f041-4f22-b4f6-a9cc34479b43",
   "metadata": {},
   "outputs": [
    {
     "data": {
      "image/png": "[encoded data removed]",
      "text/plain": [
       "<Figure size 1000x600 with 1 Axes>"
      ]
     },
     "metadata": {},
     "output_type": "display_data"
    }
   ],
   "source": [
    "\n",
    "plt.figure(figsize=(10, 6))\n",
    "sns.scatterplot(x='Age', y='Salary', data=filtered_data)\n",
    "plt.title(\"Age vs. Salary (Age > 40 and Salary < 5000)\")\n",
    "plt.xlabel(\"Age\")\n",
    "plt.ylabel(\"Salary\")\n",
    "plt.show()\n"
   ]
  },
  {
   "cell_type": "markdown",
   "id": "2c98eb1d-c35a-4ed5-bdce-00c7ba94600c",
   "metadata": {},
   "source": [
    "## Count the number of people from each place and represent it visually"
   ]
  },
  {
   "cell_type": "code",
   "execution_count": 340,
   "id": "784f52a5-c0c7-44d5-a818-b352cfc5e4d0",
   "metadata": {},
   "outputs": [
    {
     "data": {
      "text/plain": [
       "Place\n",
       "Mumbai        34\n",
       "Calcutta      32\n",
       "Chennai       14\n",
       "Delhi         14\n",
       "Unknown       14\n",
       "Cochin        13\n",
       "Noida          8\n",
       "Hyderabad      8\n",
       "Podicherry     3\n",
       "Pune           2\n",
       "Bhopal         1\n",
       "Nagpur         1\n",
       "Name: count, dtype: int64"
      ]
     },
     "execution_count": 340,
     "metadata": {},
     "output_type": "execute_result"
    }
   ],
   "source": [
    "# Count the number of people from each place\n",
    "place_counts = df['Place'].value_counts()\n",
    "place_counts\n"
   ]
  },
  {
   "cell_type": "code",
   "execution_count": 342,
   "id": "9e46b055-96fe-4ba8-98b7-27a545f59874",
   "metadata": {},
   "outputs": [
    {
     "data": {
      "image/png": "[encoded data removed]",
      "text/plain": [
       "<Figure size 1000x600 with 1 Axes>"
      ]
     },
     "metadata": {},
     "output_type": "display_data"
    }
   ],
   "source": [
    "# Plot \n",
    "plt.figure(figsize=(10, 6))\n",
    "sns.barplot(x=place_counts.index, y=place_counts.values)\n",
    "plt.title(\"Number of People from Each Place\")\n",
    "plt.xlabel(\"Place\")\n",
    "plt.ylabel(\"Count\")\n",
    "plt.xticks(rotation=45)  \n",
    "plt.show()"
   ]
  },
  {
   "cell_type": "markdown",
   "id": "8482776e-bcd1-454a-8bba-940bd0b8b057",
   "metadata": {},
   "source": [
    "## Data Encoding: (Score : 2)\n",
    "## Convert categorical variables into numerical representations using techniques such as \n",
    "## one-hot encoding,label encoding, making them suitable for analysis by machine learning algorithms."
   ]
  },
  {
   "cell_type": "code",
   "execution_count": 471,
   "id": "f2dc4e0c-46a1-40fe-983e-20846180a479",
   "metadata": {},
   "outputs": [],
   "source": [
    "numerical_columns = df.select_dtypes(include=['number']).columns\n",
    "categorical_columns = df.select_dtypes(include=['object']).columns"
   ]
  },
  {
   "cell_type": "markdown",
   "id": "b34938af-9496-4f12-923f-a80d271e0564",
   "metadata": {},
   "source": [
    "## Numerical Columns"
   ]
  },
  {
   "cell_type": "code",
   "execution_count": 473,
   "id": "e9852c92-0f3e-44be-a228-d7ea1ec61486",
   "metadata": {},
   "outputs": [
    {
     "name": "stdout",
     "output_type": "stream",
     "text": [
      "numerical_columns: Index(['Age', 'Salary', 'Gender'], dtype='object')\n"
     ]
    }
   ],
   "source": [
    "print('numerical_columns:',numerical_columns)"
   ]
  },
  {
   "cell_type": "markdown",
   "id": "053e7112-04f6-44a7-9df8-69cf1a951915",
   "metadata": {},
   "source": [
    "## Categorical Columns"
   ]
  },
  {
   "cell_type": "code",
   "execution_count": 475,
   "id": "64ace868-e6e1-446a-bf7e-4924434e2457",
   "metadata": {},
   "outputs": [
    {
     "name": "stdout",
     "output_type": "stream",
     "text": [
      "categorical_columns: Index(['Company_Name', 'Place', 'Country'], dtype='object')\n"
     ]
    }
   ],
   "source": [
    "print('categorical_columns:',categorical_columns)"
   ]
  },
  {
   "cell_type": "markdown",
   "id": "69963b2d-8005-4921-9b18-1014343b0435",
   "metadata": {},
   "source": [
    "## Label Encoding"
   ]
  },
  {
   "cell_type": "code",
   "execution_count": 477,
   "id": "f5d28e07-7e45-42dd-8f74-356f00fb648f",
   "metadata": {},
   "outputs": [],
   "source": [
    "Label_Encoder=LabelEncoder() #label encoding convert categorical to numerical"
   ]
  },
  {
   "cell_type": "code",
   "execution_count": 479,
   "id": "38be8457-a59b-46e8-9a3c-c79f9538d859",
   "metadata": {},
   "outputs": [],
   "source": [
    "df['Company_Name'] = Label_Encoder.fit_transform(df['Company_Name'])\n",
    "df['Country'] = Label_Encoder.fit_transform(df['Country'])"
   ]
  },
  {
   "cell_type": "code",
   "execution_count": 481,
   "id": "5ed6526f-b419-45dc-8a6e-c8c5e14509d3",
   "metadata": {},
   "outputs": [
    {
     "name": "stdout",
     "output_type": "stream",
     "text": [
      "   Company_Name\n",
      "0             4\n",
      "1             2\n",
      "2             4\n",
      "3             2\n",
      "4             4\n"
     ]
    }
   ],
   "source": [
    "print(df[['Company_Name']].head())"
   ]
  },
  {
   "cell_type": "code",
   "execution_count": 483,
   "id": "93735418-30f0-41ce-bc7f-bfb037a8b87b",
   "metadata": {},
   "outputs": [
    {
     "name": "stdout",
     "output_type": "stream",
     "text": [
      "   Country\n",
      "0        0\n",
      "1        0\n",
      "2        0\n",
      "3        0\n",
      "4        0\n"
     ]
    }
   ],
   "source": [
    "print(df[['Country']].head())"
   ]
  },
  {
   "cell_type": "markdown",
   "id": "67526186-fa80-4b88-a396-ea0832acbd37",
   "metadata": {},
   "source": [
    "## One-Hot Encoding"
   ]
  },
  {
   "cell_type": "code",
   "execution_count": 519,
   "id": "a594aa60-7946-4184-9d9d-59bf633c1261",
   "metadata": {},
   "outputs": [],
   "source": [
    "\n",
    "oneHot = OneHotEncoder(sparse_output=False)  # Use sparse=False to return a dense array\n",
    "\n",
    "place_encoded = oneHot.fit_transform(df[['Place']])\n",
    "place_columns = oneHot.get_feature_names_out(['Place'])\n",
    "\n",
    "# Droping the original 'Place' column and concatenate the one-hot encoded columns\n",
    "df_onehot = pd.concat([\n",
    "    df.drop('Place', axis=1),  # Drop the original 'Place' column\n",
    "    pd.DataFrame(place_encoded, columns=place_columns)  # Add the one-hot encoded columns\n",
    "], axis=1)\n",
    "\n"
   ]
  },
  {
   "cell_type": "code",
   "execution_count": 521,
   "id": "5a5a5a8c-3d8a-4159-aa85-63ab938aa1ea",
   "metadata": {},
   "outputs": [
    {
     "data": {
      "text/html": [
       "<div>\n",
       "<style scoped>\n",
       "    .dataframe tbody tr th:only-of-type {\n",
       "        vertical-align: middle;\n",
       "    }\n",
       "\n",
       "    .dataframe tbody tr th {\n",
       "        vertical-align: top;\n",
       "    }\n",
       "\n",
       "    .dataframe thead th {\n",
       "        text-align: right;\n",
       "    }\n",
       "</style>\n",
       "<table border=\"1\" class=\"dataframe\">\n",
       "  <thead>\n",
       "    <tr style=\"text-align: right;\">\n",
       "      <th></th>\n",
       "      <th>Company_Name</th>\n",
       "      <th>Age</th>\n",
       "      <th>Salary</th>\n",
       "      <th>Country</th>\n",
       "      <th>Gender</th>\n",
       "      <th>Place_Bhopal</th>\n",
       "      <th>Place_Calcutta</th>\n",
       "      <th>Place_Chennai</th>\n",
       "      <th>Place_Cochin</th>\n",
       "      <th>Place_Delhi</th>\n",
       "      <th>Place_Hyderabad</th>\n",
       "      <th>Place_Mumbai</th>\n",
       "      <th>Place_Nagpur</th>\n",
       "      <th>Place_Noida</th>\n",
       "      <th>Place_Podicherry</th>\n",
       "      <th>Place_Pune</th>\n",
       "      <th>Place_Unknown</th>\n",
       "    </tr>\n",
       "  </thead>\n",
       "  <tbody>\n",
       "    <tr>\n",
       "      <th>0</th>\n",
       "      <td>4</td>\n",
       "      <td>20.0</td>\n",
       "      <td>5000.0</td>\n",
       "      <td>0</td>\n",
       "      <td>0</td>\n",
       "      <td>0.0</td>\n",
       "      <td>0.0</td>\n",
       "      <td>1.0</td>\n",
       "      <td>0.0</td>\n",
       "      <td>0.0</td>\n",
       "      <td>0.0</td>\n",
       "      <td>0.0</td>\n",
       "      <td>0.0</td>\n",
       "      <td>0.0</td>\n",
       "      <td>0.0</td>\n",
       "      <td>0.0</td>\n",
       "      <td>0.0</td>\n",
       "    </tr>\n",
       "    <tr>\n",
       "      <th>1</th>\n",
       "      <td>2</td>\n",
       "      <td>30.0</td>\n",
       "      <td>5000.0</td>\n",
       "      <td>0</td>\n",
       "      <td>0</td>\n",
       "      <td>0.0</td>\n",
       "      <td>0.0</td>\n",
       "      <td>0.0</td>\n",
       "      <td>0.0</td>\n",
       "      <td>0.0</td>\n",
       "      <td>0.0</td>\n",
       "      <td>1.0</td>\n",
       "      <td>0.0</td>\n",
       "      <td>0.0</td>\n",
       "      <td>0.0</td>\n",
       "      <td>0.0</td>\n",
       "      <td>0.0</td>\n",
       "    </tr>\n",
       "    <tr>\n",
       "      <th>2</th>\n",
       "      <td>4</td>\n",
       "      <td>35.0</td>\n",
       "      <td>2300.0</td>\n",
       "      <td>0</td>\n",
       "      <td>0</td>\n",
       "      <td>0.0</td>\n",
       "      <td>1.0</td>\n",
       "      <td>0.0</td>\n",
       "      <td>0.0</td>\n",
       "      <td>0.0</td>\n",
       "      <td>0.0</td>\n",
       "      <td>0.0</td>\n",
       "      <td>0.0</td>\n",
       "      <td>0.0</td>\n",
       "      <td>0.0</td>\n",
       "      <td>0.0</td>\n",
       "      <td>0.0</td>\n",
       "    </tr>\n",
       "    <tr>\n",
       "      <th>3</th>\n",
       "      <td>2</td>\n",
       "      <td>40.0</td>\n",
       "      <td>3000.0</td>\n",
       "      <td>0</td>\n",
       "      <td>0</td>\n",
       "      <td>0.0</td>\n",
       "      <td>0.0</td>\n",
       "      <td>0.0</td>\n",
       "      <td>0.0</td>\n",
       "      <td>1.0</td>\n",
       "      <td>0.0</td>\n",
       "      <td>0.0</td>\n",
       "      <td>0.0</td>\n",
       "      <td>0.0</td>\n",
       "      <td>0.0</td>\n",
       "      <td>0.0</td>\n",
       "      <td>0.0</td>\n",
       "    </tr>\n",
       "    <tr>\n",
       "      <th>4</th>\n",
       "      <td>4</td>\n",
       "      <td>23.0</td>\n",
       "      <td>4000.0</td>\n",
       "      <td>0</td>\n",
       "      <td>0</td>\n",
       "      <td>0.0</td>\n",
       "      <td>0.0</td>\n",
       "      <td>0.0</td>\n",
       "      <td>0.0</td>\n",
       "      <td>0.0</td>\n",
       "      <td>0.0</td>\n",
       "      <td>1.0</td>\n",
       "      <td>0.0</td>\n",
       "      <td>0.0</td>\n",
       "      <td>0.0</td>\n",
       "      <td>0.0</td>\n",
       "      <td>0.0</td>\n",
       "    </tr>\n",
       "  </tbody>\n",
       "</table>\n",
       "</div>"
      ],
      "text/plain": [
       "   Company_Name   Age  Salary  Country  Gender  Place_Bhopal  Place_Calcutta  \\\n",
       "0             4  20.0  5000.0        0       0           0.0             0.0   \n",
       "1             2  30.0  5000.0        0       0           0.0             0.0   \n",
       "2             4  35.0  2300.0        0       0           0.0             1.0   \n",
       "3             2  40.0  3000.0        0       0           0.0             0.0   \n",
       "4             4  23.0  4000.0        0       0           0.0             0.0   \n",
       "\n",
       "   Place_Chennai  Place_Cochin  Place_Delhi  Place_Hyderabad  Place_Mumbai  \\\n",
       "0            1.0           0.0          0.0              0.0           0.0   \n",
       "1            0.0           0.0          0.0              0.0           1.0   \n",
       "2            0.0           0.0          0.0              0.0           0.0   \n",
       "3            0.0           0.0          1.0              0.0           0.0   \n",
       "4            0.0           0.0          0.0              0.0           1.0   \n",
       "\n",
       "   Place_Nagpur  Place_Noida  Place_Podicherry  Place_Pune  Place_Unknown  \n",
       "0           0.0          0.0               0.0         0.0            0.0  \n",
       "1           0.0          0.0               0.0         0.0            0.0  \n",
       "2           0.0          0.0               0.0         0.0            0.0  \n",
       "3           0.0          0.0               0.0         0.0            0.0  \n",
       "4           0.0          0.0               0.0         0.0            0.0  "
      ]
     },
     "execution_count": 521,
     "metadata": {},
     "output_type": "execute_result"
    }
   ],
   "source": [
    "df_onehot.head()"
   ]
  },
  {
   "cell_type": "markdown",
   "id": "f06065b0-683c-4b04-ac9c-1302300bf264",
   "metadata": {},
   "source": [
    "## y is target variable (dependent variable)"
   ]
  },
  {
   "cell_type": "code",
   "execution_count": 523,
   "id": "cfc33830-26e7-459b-96cc-4d4a5f40eea5",
   "metadata": {},
   "outputs": [],
   "source": [
    "y=df_onehot['Salary']"
   ]
  },
  {
   "cell_type": "code",
   "execution_count": 525,
   "id": "1611e15c-5a8f-49ef-9a2a-f6b7384029e0",
   "metadata": {},
   "outputs": [
    {
     "data": {
      "text/plain": [
       "0      5000.0\n",
       "1      5000.0\n",
       "2      2300.0\n",
       "3      3000.0\n",
       "4      4000.0\n",
       "        ...  \n",
       "143    9024.0\n",
       "144    8787.0\n",
       "145    4034.0\n",
       "146    5034.0\n",
       "147    8202.0\n",
       "Name: Salary, Length: 148, dtype: float64"
      ]
     },
     "execution_count": 525,
     "metadata": {},
     "output_type": "execute_result"
    }
   ],
   "source": [
    "y"
   ]
  },
  {
   "cell_type": "code",
   "execution_count": 531,
   "id": "321cdcba-af28-452a-98ce-47ab863716a5",
   "metadata": {},
   "outputs": [],
   "source": [
    "# x = df_onehot.drop(['Salary', 'Company_Name', 'Country'], axis=1)"
   ]
  },
  {
   "cell_type": "code",
   "execution_count": 561,
   "id": "fc66712f-2d33-49c9-ba0a-f27103e00df2",
   "metadata": {},
   "outputs": [],
   "source": [
    "x = df_onehot.drop(['Salary'], axis=1)"
   ]
  },
  {
   "cell_type": "code",
   "execution_count": 563,
   "id": "bf6853a1-697c-43a4-9c69-47b433a357ce",
   "metadata": {},
   "outputs": [
    {
     "data": {
      "text/html": [
       "<div>\n",
       "<style scoped>\n",
       "    .dataframe tbody tr th:only-of-type {\n",
       "        vertical-align: middle;\n",
       "    }\n",
       "\n",
       "    .dataframe tbody tr th {\n",
       "        vertical-align: top;\n",
       "    }\n",
       "\n",
       "    .dataframe thead th {\n",
       "        text-align: right;\n",
       "    }\n",
       "</style>\n",
       "<table border=\"1\" class=\"dataframe\">\n",
       "  <thead>\n",
       "    <tr style=\"text-align: right;\">\n",
       "      <th></th>\n",
       "      <th>Company_Name</th>\n",
       "      <th>Age</th>\n",
       "      <th>Country</th>\n",
       "      <th>Gender</th>\n",
       "      <th>Place_Bhopal</th>\n",
       "      <th>Place_Calcutta</th>\n",
       "      <th>Place_Chennai</th>\n",
       "      <th>Place_Cochin</th>\n",
       "      <th>Place_Delhi</th>\n",
       "      <th>Place_Hyderabad</th>\n",
       "      <th>Place_Mumbai</th>\n",
       "      <th>Place_Nagpur</th>\n",
       "      <th>Place_Noida</th>\n",
       "      <th>Place_Podicherry</th>\n",
       "      <th>Place_Pune</th>\n",
       "      <th>Place_Unknown</th>\n",
       "    </tr>\n",
       "  </thead>\n",
       "  <tbody>\n",
       "    <tr>\n",
       "      <th>0</th>\n",
       "      <td>4</td>\n",
       "      <td>20.0</td>\n",
       "      <td>0</td>\n",
       "      <td>0</td>\n",
       "      <td>0.0</td>\n",
       "      <td>0.0</td>\n",
       "      <td>1.0</td>\n",
       "      <td>0.0</td>\n",
       "      <td>0.0</td>\n",
       "      <td>0.0</td>\n",
       "      <td>0.0</td>\n",
       "      <td>0.0</td>\n",
       "      <td>0.0</td>\n",
       "      <td>0.0</td>\n",
       "      <td>0.0</td>\n",
       "      <td>0.0</td>\n",
       "    </tr>\n",
       "    <tr>\n",
       "      <th>1</th>\n",
       "      <td>2</td>\n",
       "      <td>30.0</td>\n",
       "      <td>0</td>\n",
       "      <td>0</td>\n",
       "      <td>0.0</td>\n",
       "      <td>0.0</td>\n",
       "      <td>0.0</td>\n",
       "      <td>0.0</td>\n",
       "      <td>0.0</td>\n",
       "      <td>0.0</td>\n",
       "      <td>1.0</td>\n",
       "      <td>0.0</td>\n",
       "      <td>0.0</td>\n",
       "      <td>0.0</td>\n",
       "      <td>0.0</td>\n",
       "      <td>0.0</td>\n",
       "    </tr>\n",
       "    <tr>\n",
       "      <th>2</th>\n",
       "      <td>4</td>\n",
       "      <td>35.0</td>\n",
       "      <td>0</td>\n",
       "      <td>0</td>\n",
       "      <td>0.0</td>\n",
       "      <td>1.0</td>\n",
       "      <td>0.0</td>\n",
       "      <td>0.0</td>\n",
       "      <td>0.0</td>\n",
       "      <td>0.0</td>\n",
       "      <td>0.0</td>\n",
       "      <td>0.0</td>\n",
       "      <td>0.0</td>\n",
       "      <td>0.0</td>\n",
       "      <td>0.0</td>\n",
       "      <td>0.0</td>\n",
       "    </tr>\n",
       "    <tr>\n",
       "      <th>3</th>\n",
       "      <td>2</td>\n",
       "      <td>40.0</td>\n",
       "      <td>0</td>\n",
       "      <td>0</td>\n",
       "      <td>0.0</td>\n",
       "      <td>0.0</td>\n",
       "      <td>0.0</td>\n",
       "      <td>0.0</td>\n",
       "      <td>1.0</td>\n",
       "      <td>0.0</td>\n",
       "      <td>0.0</td>\n",
       "      <td>0.0</td>\n",
       "      <td>0.0</td>\n",
       "      <td>0.0</td>\n",
       "      <td>0.0</td>\n",
       "      <td>0.0</td>\n",
       "    </tr>\n",
       "    <tr>\n",
       "      <th>4</th>\n",
       "      <td>4</td>\n",
       "      <td>23.0</td>\n",
       "      <td>0</td>\n",
       "      <td>0</td>\n",
       "      <td>0.0</td>\n",
       "      <td>0.0</td>\n",
       "      <td>0.0</td>\n",
       "      <td>0.0</td>\n",
       "      <td>0.0</td>\n",
       "      <td>0.0</td>\n",
       "      <td>1.0</td>\n",
       "      <td>0.0</td>\n",
       "      <td>0.0</td>\n",
       "      <td>0.0</td>\n",
       "      <td>0.0</td>\n",
       "      <td>0.0</td>\n",
       "    </tr>\n",
       "    <tr>\n",
       "      <th>...</th>\n",
       "      <td>...</td>\n",
       "      <td>...</td>\n",
       "      <td>...</td>\n",
       "      <td>...</td>\n",
       "      <td>...</td>\n",
       "      <td>...</td>\n",
       "      <td>...</td>\n",
       "      <td>...</td>\n",
       "      <td>...</td>\n",
       "      <td>...</td>\n",
       "      <td>...</td>\n",
       "      <td>...</td>\n",
       "      <td>...</td>\n",
       "      <td>...</td>\n",
       "      <td>...</td>\n",
       "      <td>...</td>\n",
       "    </tr>\n",
       "    <tr>\n",
       "      <th>143</th>\n",
       "      <td>4</td>\n",
       "      <td>33.0</td>\n",
       "      <td>0</td>\n",
       "      <td>1</td>\n",
       "      <td>0.0</td>\n",
       "      <td>1.0</td>\n",
       "      <td>0.0</td>\n",
       "      <td>0.0</td>\n",
       "      <td>0.0</td>\n",
       "      <td>0.0</td>\n",
       "      <td>0.0</td>\n",
       "      <td>0.0</td>\n",
       "      <td>0.0</td>\n",
       "      <td>0.0</td>\n",
       "      <td>0.0</td>\n",
       "      <td>0.0</td>\n",
       "    </tr>\n",
       "    <tr>\n",
       "      <th>144</th>\n",
       "      <td>2</td>\n",
       "      <td>22.0</td>\n",
       "      <td>0</td>\n",
       "      <td>1</td>\n",
       "      <td>0.0</td>\n",
       "      <td>1.0</td>\n",
       "      <td>0.0</td>\n",
       "      <td>0.0</td>\n",
       "      <td>0.0</td>\n",
       "      <td>0.0</td>\n",
       "      <td>0.0</td>\n",
       "      <td>0.0</td>\n",
       "      <td>0.0</td>\n",
       "      <td>0.0</td>\n",
       "      <td>0.0</td>\n",
       "      <td>0.0</td>\n",
       "    </tr>\n",
       "    <tr>\n",
       "      <th>145</th>\n",
       "      <td>2</td>\n",
       "      <td>44.0</td>\n",
       "      <td>0</td>\n",
       "      <td>1</td>\n",
       "      <td>0.0</td>\n",
       "      <td>0.0</td>\n",
       "      <td>0.0</td>\n",
       "      <td>0.0</td>\n",
       "      <td>1.0</td>\n",
       "      <td>0.0</td>\n",
       "      <td>0.0</td>\n",
       "      <td>0.0</td>\n",
       "      <td>0.0</td>\n",
       "      <td>0.0</td>\n",
       "      <td>0.0</td>\n",
       "      <td>0.0</td>\n",
       "    </tr>\n",
       "    <tr>\n",
       "      <th>146</th>\n",
       "      <td>4</td>\n",
       "      <td>33.0</td>\n",
       "      <td>0</td>\n",
       "      <td>1</td>\n",
       "      <td>0.0</td>\n",
       "      <td>0.0</td>\n",
       "      <td>0.0</td>\n",
       "      <td>0.0</td>\n",
       "      <td>0.0</td>\n",
       "      <td>0.0</td>\n",
       "      <td>1.0</td>\n",
       "      <td>0.0</td>\n",
       "      <td>0.0</td>\n",
       "      <td>0.0</td>\n",
       "      <td>0.0</td>\n",
       "      <td>0.0</td>\n",
       "    </tr>\n",
       "    <tr>\n",
       "      <th>147</th>\n",
       "      <td>2</td>\n",
       "      <td>22.0</td>\n",
       "      <td>0</td>\n",
       "      <td>0</td>\n",
       "      <td>0.0</td>\n",
       "      <td>0.0</td>\n",
       "      <td>0.0</td>\n",
       "      <td>1.0</td>\n",
       "      <td>0.0</td>\n",
       "      <td>0.0</td>\n",
       "      <td>0.0</td>\n",
       "      <td>0.0</td>\n",
       "      <td>0.0</td>\n",
       "      <td>0.0</td>\n",
       "      <td>0.0</td>\n",
       "      <td>0.0</td>\n",
       "    </tr>\n",
       "  </tbody>\n",
       "</table>\n",
       "<p>148 rows × 16 columns</p>\n",
       "</div>"
      ],
      "text/plain": [
       "     Company_Name   Age  Country  Gender  Place_Bhopal  Place_Calcutta  \\\n",
       "0               4  20.0        0       0           0.0             0.0   \n",
       "1               2  30.0        0       0           0.0             0.0   \n",
       "2               4  35.0        0       0           0.0             1.0   \n",
       "3               2  40.0        0       0           0.0             0.0   \n",
       "4               4  23.0        0       0           0.0             0.0   \n",
       "..            ...   ...      ...     ...           ...             ...   \n",
       "143             4  33.0        0       1           0.0             1.0   \n",
       "144             2  22.0        0       1           0.0             1.0   \n",
       "145             2  44.0        0       1           0.0             0.0   \n",
       "146             4  33.0        0       1           0.0             0.0   \n",
       "147             2  22.0        0       0           0.0             0.0   \n",
       "\n",
       "     Place_Chennai  Place_Cochin  Place_Delhi  Place_Hyderabad  Place_Mumbai  \\\n",
       "0              1.0           0.0          0.0              0.0           0.0   \n",
       "1              0.0           0.0          0.0              0.0           1.0   \n",
       "2              0.0           0.0          0.0              0.0           0.0   \n",
       "3              0.0           0.0          1.0              0.0           0.0   \n",
       "4              0.0           0.0          0.0              0.0           1.0   \n",
       "..             ...           ...          ...              ...           ...   \n",
       "143            0.0           0.0          0.0              0.0           0.0   \n",
       "144            0.0           0.0          0.0              0.0           0.0   \n",
       "145            0.0           0.0          1.0              0.0           0.0   \n",
       "146            0.0           0.0          0.0              0.0           1.0   \n",
       "147            0.0           1.0          0.0              0.0           0.0   \n",
       "\n",
       "     Place_Nagpur  Place_Noida  Place_Podicherry  Place_Pune  Place_Unknown  \n",
       "0             0.0          0.0               0.0         0.0            0.0  \n",
       "1             0.0          0.0               0.0         0.0            0.0  \n",
       "2             0.0          0.0               0.0         0.0            0.0  \n",
       "3             0.0          0.0               0.0         0.0            0.0  \n",
       "4             0.0          0.0               0.0         0.0            0.0  \n",
       "..            ...          ...               ...         ...            ...  \n",
       "143           0.0          0.0               0.0         0.0            0.0  \n",
       "144           0.0          0.0               0.0         0.0            0.0  \n",
       "145           0.0          0.0               0.0         0.0            0.0  \n",
       "146           0.0          0.0               0.0         0.0            0.0  \n",
       "147           0.0          0.0               0.0         0.0            0.0  \n",
       "\n",
       "[148 rows x 16 columns]"
      ]
     },
     "execution_count": 563,
     "metadata": {},
     "output_type": "execute_result"
    }
   ],
   "source": [
    "x"
   ]
  },
  {
   "cell_type": "code",
   "execution_count": 565,
   "id": "9235a4b0-ebfb-4a02-834c-dfda77192b2b",
   "metadata": {},
   "outputs": [
    {
     "name": "stdout",
     "output_type": "stream",
     "text": [
      "Company_Name        0\n",
      "Age                 0\n",
      "Country             0\n",
      "Gender              0\n",
      "Place_Bhopal        0\n",
      "Place_Calcutta      0\n",
      "Place_Chennai       0\n",
      "Place_Cochin        0\n",
      "Place_Delhi         0\n",
      "Place_Hyderabad     0\n",
      "Place_Mumbai        0\n",
      "Place_Nagpur        0\n",
      "Place_Noida         0\n",
      "Place_Podicherry    0\n",
      "Place_Pune          0\n",
      "Place_Unknown       0\n",
      "dtype: int64\n",
      "0\n"
     ]
    }
   ],
   "source": [
    "print(x.isnull().sum())  # Should show 0 if no `NaN` values exist\n",
    "print(y.isnull().sum())  # Should also show 0 if no `NaN` values exist"
   ]
  },
  {
   "cell_type": "markdown",
   "id": "2b816fdf-0ffe-4f3b-86e9-bd8558ab6268",
   "metadata": {},
   "source": [
    "## Feature Scaling: (Score : 2)\n",
    "## After the process of encoding, perform the scaling of the features using standardscaler and minmaxscaler."
   ]
  },
  {
   "cell_type": "markdown",
   "id": "977b8ce3-7004-408f-96df-55312dc734f1",
   "metadata": {},
   "source": [
    "## Feature Selection Using VarianceThreshold\n"
   ]
  },
  {
   "cell_type": "code",
   "execution_count": 567,
   "id": "21a502de-074c-402c-a04b-40e9afe23264",
   "metadata": {},
   "outputs": [
    {
     "name": "stdout",
     "output_type": "stream",
     "text": [
      "1. Filter Methods Results:\n",
      "\n",
      "a) Variance Threshold\n",
      "Features selected: 5\n",
      "Selected features: ['Company_Name', 'Age', 'Gender', 'Place_Calcutta', 'Place_Mumbai'] ...\n"
     ]
    }
   ],
   "source": [
    "# 1.1 Variance Threshold\n",
    "var_threshold = VarianceThreshold(threshold=0.1)\n",
    "X_var = var_threshold.fit_transform(x)\n",
    "var_selected = x.columns[var_threshold.get_support()].tolist()\n",
    "\n",
    "print(\"1. Filter Methods Results:\")\n",
    "print(\"\\na) Variance Threshold\")\n",
    "print(f\"Features selected: {len(var_selected)}\")\n",
    "print(\"Selected features:\", var_selected[:5], \"...\")"
   ]
  },
  {
   "cell_type": "markdown",
   "id": "fba8aff9-786a-41e7-a895-6e2cd07a0e1e",
   "metadata": {},
   "source": [
    "## scaling"
   ]
  },
  {
   "cell_type": "code",
   "execution_count": 569,
   "id": "cbe0a0dc-de5c-450e-acff-a421cf92bfad",
   "metadata": {},
   "outputs": [],
   "source": [
    "# Create scalers\n",
    "standard_scaler = StandardScaler()  #standardized : entire data into standard form\n",
    "minmax_scaler = MinMaxScaler()      # minmax : entire data into normalized form"
   ]
  },
  {
   "cell_type": "code",
   "execution_count": 571,
   "id": "b2aa60ac-a576-415a-8147-91e34a015e38",
   "metadata": {},
   "outputs": [],
   "source": [
    "# Apply different scaling methods\n",
    "X_standardized = standard_scaler.fit_transform(X_var) \n",
    "X_normalized = minmax_scaler.fit_transform(X_var)    "
   ]
  },
  {
   "cell_type": "code",
   "execution_count": 573,
   "id": "c3e1d825-eb72-4cd3-9eb3-471d685aebde",
   "metadata": {},
   "outputs": [],
   "source": [
    "# Convert the scaled arrays back into DataFrames with the original column names\n",
    "X_standardized_df = pd.DataFrame(X_standardized, columns=var_selected)\n",
    "X_normalized_df = pd.DataFrame(X_normalized, columns=var_selected)\n"
   ]
  },
  {
   "cell_type": "code",
   "execution_count": 575,
   "id": "e95ae811-0284-44ef-99d8-89ae04760bfc",
   "metadata": {},
   "outputs": [
    {
     "name": "stdout",
     "output_type": "stream",
     "text": [
      "   Company_Name       Age    Gender  Place_Calcutta  Place_Mumbai\n",
      "0      0.848436 -1.471033 -0.535683       -0.535683     -0.577350\n",
      "1     -0.272712 -0.258148 -0.535683       -0.535683      1.732051\n",
      "2      0.848436  0.348295 -0.535683        1.866775     -0.577350\n",
      "3     -0.272712  0.954737 -0.535683       -0.535683     -0.577350\n",
      "4      0.848436 -1.107168 -0.535683       -0.535683      1.732051\n",
      "   Company_Name       Age  Gender  Place_Calcutta  Place_Mumbai\n",
      "0      0.666667  0.081081     0.0             0.0           0.0\n",
      "1      0.333333  0.351351     0.0             0.0           1.0\n",
      "2      0.666667  0.486486     0.0             1.0           0.0\n",
      "3      0.333333  0.621622     0.0             0.0           0.0\n",
      "4      0.666667  0.162162     0.0             0.0           1.0\n"
     ]
    }
   ],
   "source": [
    "# now we can visualize or use these DataFrames\n",
    "print(X_standardized_df.head())\n",
    "print(X_normalized_df.head())"
   ]
  },
  {
   "cell_type": "code",
   "execution_count": 577,
   "id": "77bdf8ac-d241-4bf9-9845-134574e8c269",
   "metadata": {},
   "outputs": [
    {
     "data": {
      "image/png": "[encoded data removed]",
      "text/plain": [
       "<Figure size 640x480 with 2 Axes>"
      ]
     },
     "metadata": {},
     "output_type": "display_data"
    }
   ],
   "source": [
    "correlation = X_standardized_df.corr()\n",
    "sns.heatmap(correlation, annot=True, cmap='coolwarm')\n",
    "plt.title(\"Correlation Matrix of Standardized Features\")\n",
    "plt.show()\n"
   ]
  },
  {
   "cell_type": "code",
   "execution_count": null,
   "id": "e9ae7448-0f6d-46de-8416-07a2bd2f657e",
   "metadata": {},
   "outputs": [],
   "source": []
  }
 ],
 "metadata": {
  "kernelspec": {
   "display_name": "Python 3 (ipykernel)",
   "language": "python",
   "name": "python3"
  },
  "language_info": {
   "codemirror_mode": {
    "name": "ipython",
    "version": 3
   },
   "file_extension": ".py",
   "mimetype": "text/x-python",
   "name": "python",
   "nbconvert_exporter": "python",
   "pygments_lexer": "ipython3",
   "version": "3.12.4"
  }
 },
 "nbformat": 4,
 "nbformat_minor": 5
}
